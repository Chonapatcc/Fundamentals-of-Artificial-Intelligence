{
 "cells": [
  {
   "cell_type": "markdown",
   "metadata": {},
   "source": [
    "### 6610450871 นายชนพัฒน์ โชติกุลรัตน์ หมู่ 200"
   ]
  },
  {
   "cell_type": "code",
   "execution_count": 56,
   "metadata": {},
   "outputs": [],
   "source": [
    "import pandas as pd\n",
    "import numpy as np\n",
    "from sklearn.tree import DecisionTreeClassifier\n",
    "from sklearn.model_selection import train_test_split\n",
    "from sklearn.metrics import accuracy_score\n",
    "from sklearn.preprocessing import LabelEncoder\n",
    "import seaborn as sns\n",
    "import matplotlib.pyplot as plt"
   ]
  },
  {
   "cell_type": "code",
   "execution_count": 57,
   "metadata": {},
   "outputs": [],
   "source": [
    "df = pd.read_excel(\"IndiaWeather.xlsx\")"
   ]
  },
  {
   "cell_type": "code",
   "execution_count": 1,
   "metadata": {},
   "outputs": [
    {
     "ename": "NameError",
     "evalue": "name 'df' is not defined",
     "output_type": "error",
     "traceback": [
      "\u001b[1;31m---------------------------------------------------------------------------\u001b[0m",
      "\u001b[1;31mNameError\u001b[0m                                 Traceback (most recent call last)",
      "Cell \u001b[1;32mIn[1], line 1\u001b[0m\n\u001b[1;32m----> 1\u001b[0m df \u001b[38;5;241m=\u001b[39m df\u001b[38;5;241m.\u001b[39mreplace(\u001b[38;5;124m'\u001b[39m\u001b[38;5;124m?\u001b[39m\u001b[38;5;124m'\u001b[39m, pd\u001b[38;5;241m.\u001b[39mNA)\n",
      "\u001b[1;31mNameError\u001b[0m: name 'df' is not defined"
     ]
    }
   ],
   "source": [
    "df = df.replace('?', pd.NA)"
   ]
  },
  {
   "cell_type": "code",
   "execution_count": 59,
   "metadata": {},
   "outputs": [],
   "source": [
    "numeric_cols = df.columns.drop('คุณภาพอากาศ')\n",
    "for col in numeric_cols:\n",
    "    df[col] = pd.to_numeric(df[col], errors='coerce')"
   ]
  },
  {
   "cell_type": "code",
   "execution_count": 60,
   "metadata": {},
   "outputs": [
    {
     "name": "stderr",
     "output_type": "stream",
     "text": [
      "C:\\Users\\chona\\AppData\\Local\\Temp\\ipykernel_19440\\1177898487.py:4: FutureWarning: Setting an item of incompatible dtype is deprecated and will raise an error in a future version of pandas. Value '301.28025477707007' has dtype incompatible with int64, please explicitly cast to a compatible dtype first.\n",
      "  df.loc[(df['คุณภาพอากาศ'] == air_quality) & (df[col].isna()), col] = mean_val\n"
     ]
    }
   ],
   "source": [
    "for air_quality in df['คุณภาพอากาศ'].unique():\n",
    "    for col in numeric_cols:\n",
    "        mean_val = df[df['คุณภาพอากาศ'] == air_quality][col].mean()\n",
    "        df.loc[(df['คุณภาพอากาศ'] == air_quality) & (df[col].isna()), col] = mean_val"
   ]
  },
  {
   "cell_type": "code",
   "execution_count": 61,
   "metadata": {},
   "outputs": [],
   "source": [
    "CONVERSION_CONSTANT = 24.45\n",
    "df[\"ปริมาณไนโตรเจน\"] = df[\"ปริมาณไนโตรเจน\"] *46/CONVERSION_CONSTANT\n",
    "df[\"ปริมาณซัลเฟอร์\"] = df[\"ปริมาณซัลเฟอร์\"] * 64.1 / CONVERSION_CONSTANT\n",
    "df[\"ปริมาณคาร์บอน\"] = df[\"ปริมาณคาร์บอน\"] * 28  / CONVERSION_CONSTANT"
   ]
  },
  {
   "cell_type": "code",
   "execution_count": 62,
   "metadata": {},
   "outputs": [
    {
     "data": {
      "text/html": [
       "<div>\n",
       "<style scoped>\n",
       "    .dataframe tbody tr th:only-of-type {\n",
       "        vertical-align: middle;\n",
       "    }\n",
       "\n",
       "    .dataframe tbody tr th {\n",
       "        vertical-align: top;\n",
       "    }\n",
       "\n",
       "    .dataframe thead th {\n",
       "        text-align: right;\n",
       "    }\n",
       "</style>\n",
       "<table border=\"1\" class=\"dataframe\">\n",
       "  <thead>\n",
       "    <tr style=\"text-align: right;\">\n",
       "      <th></th>\n",
       "      <th>อุณหภูมิ</th>\n",
       "      <th>ความชื้น</th>\n",
       "      <th>ปริมาณ PM2.5</th>\n",
       "      <th>ปริมาณ PM10</th>\n",
       "      <th>ปริมาณไนโตรเจน</th>\n",
       "      <th>ปริมาณซัลเฟอร์</th>\n",
       "      <th>ปริมาณคาร์บอน</th>\n",
       "      <th>ระยะห่างจากโรงงาน</th>\n",
       "      <th>ความหนาแน่นประชากร</th>\n",
       "      <th>คุณภาพอากาศ</th>\n",
       "    </tr>\n",
       "  </thead>\n",
       "  <tbody>\n",
       "    <tr>\n",
       "      <th>0</th>\n",
       "      <td>24.7</td>\n",
       "      <td>53.8</td>\n",
       "      <td>2.1</td>\n",
       "      <td>8.7</td>\n",
       "      <td>47.222904</td>\n",
       "      <td>57.152556</td>\n",
       "      <td>1.007771</td>\n",
       "      <td>10.0</td>\n",
       "      <td>310.0</td>\n",
       "      <td>ปานกลาง</td>\n",
       "    </tr>\n",
       "    <tr>\n",
       "      <th>1</th>\n",
       "      <td>25.8</td>\n",
       "      <td>65.6</td>\n",
       "      <td>12.7</td>\n",
       "      <td>18.5</td>\n",
       "      <td>23.141104</td>\n",
       "      <td>68.163599</td>\n",
       "      <td>1.168098</td>\n",
       "      <td>0.0</td>\n",
       "      <td>297.0</td>\n",
       "      <td>ดี</td>\n",
       "    </tr>\n",
       "    <tr>\n",
       "      <th>2</th>\n",
       "      <td>26.6</td>\n",
       "      <td>55.2</td>\n",
       "      <td>26.6</td>\n",
       "      <td>39.1</td>\n",
       "      <td>42.840371</td>\n",
       "      <td>67.639264</td>\n",
       "      <td>0.618405</td>\n",
       "      <td>0.6</td>\n",
       "      <td>316.0</td>\n",
       "      <td>ปานกลาง</td>\n",
       "    </tr>\n",
       "    <tr>\n",
       "      <th>3</th>\n",
       "      <td>24.3</td>\n",
       "      <td>63.0</td>\n",
       "      <td>2.5</td>\n",
       "      <td>13.8</td>\n",
       "      <td>29.914110</td>\n",
       "      <td>9.700204</td>\n",
       "      <td>1.488753</td>\n",
       "      <td>6.6</td>\n",
       "      <td>270.0</td>\n",
       "      <td>แย่</td>\n",
       "    </tr>\n",
       "    <tr>\n",
       "      <th>4</th>\n",
       "      <td>23.3</td>\n",
       "      <td>73.2</td>\n",
       "      <td>19.9</td>\n",
       "      <td>37.2</td>\n",
       "      <td>32.171779</td>\n",
       "      <td>51.384867</td>\n",
       "      <td>1.316973</td>\n",
       "      <td>1.7</td>\n",
       "      <td>319.0</td>\n",
       "      <td>ดี</td>\n",
       "    </tr>\n",
       "  </tbody>\n",
       "</table>\n",
       "</div>"
      ],
      "text/plain": [
       "   อุณหภูมิ  ความชื้น  ปริมาณ PM2.5  ปริมาณ PM10  ปริมาณไนโตรเจน  \\\n",
       "0      24.7      53.8           2.1          8.7       47.222904   \n",
       "1      25.8      65.6          12.7         18.5       23.141104   \n",
       "2      26.6      55.2          26.6         39.1       42.840371   \n",
       "3      24.3      63.0           2.5         13.8       29.914110   \n",
       "4      23.3      73.2          19.9         37.2       32.171779   \n",
       "\n",
       "   ปริมาณซัลเฟอร์  ปริมาณคาร์บอน  ระยะห่างจากโรงงาน  ความหนาแน่นประชากร  \\\n",
       "0       57.152556       1.007771               10.0               310.0   \n",
       "1       68.163599       1.168098                0.0               297.0   \n",
       "2       67.639264       0.618405                0.6               316.0   \n",
       "3        9.700204       1.488753                6.6               270.0   \n",
       "4       51.384867       1.316973                1.7               319.0   \n",
       "\n",
       "  คุณภาพอากาศ  \n",
       "0     ปานกลาง  \n",
       "1          ดี  \n",
       "2     ปานกลาง  \n",
       "3         แย่  \n",
       "4          ดี  "
      ]
     },
     "execution_count": 62,
     "metadata": {},
     "output_type": "execute_result"
    }
   ],
   "source": [
    "df.head()"
   ]
  },
  {
   "cell_type": "code",
   "execution_count": 63,
   "metadata": {},
   "outputs": [
    {
     "name": "stdout",
     "output_type": "stream",
     "text": [
      "Accuracy: 0.37\n"
     ]
    }
   ],
   "source": [
    "\n",
    "le = LabelEncoder()\n",
    "df['คุณภาพอากาศ'] = le.fit_transform(df['คุณภาพอากาศ'])\n",
    "\n",
    "\n",
    "X = df.drop('คุณภาพอากาศ', axis=1)\n",
    "y = df['คุณภาพอากาศ']\n",
    "\n",
    "X_train, X_test, y_train, y_test = train_test_split(X, y, test_size=0.2, random_state=42)\n",
    "\n",
    "clf = DecisionTreeClassifier(random_state=42)\n",
    "clf.fit(X_train, y_train)\n",
    "\n",
    "y_pred = clf.predict(X_test)\n",
    "\n",
    "accuracy = accuracy_score(y_test, y_pred)\n",
    "print(f\"Accuracy: {accuracy}\")"
   ]
  },
  {
   "cell_type": "code",
   "execution_count": null,
   "metadata": {},
   "outputs": [],
   "source": []
  }
 ],
 "metadata": {
  "kernelspec": {
   "display_name": "base",
   "language": "python",
   "name": "python3"
  },
  "language_info": {
   "codemirror_mode": {
    "name": "ipython",
    "version": 3
   },
   "file_extension": ".py",
   "mimetype": "text/x-python",
   "name": "python",
   "nbconvert_exporter": "python",
   "pygments_lexer": "ipython3",
   "version": "3.12.4"
  }
 },
 "nbformat": 4,
 "nbformat_minor": 2
}

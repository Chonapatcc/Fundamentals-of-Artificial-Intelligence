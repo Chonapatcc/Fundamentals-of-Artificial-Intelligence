{
 "cells": [
  {
   "cell_type": "markdown",
   "metadata": {},
   "source": [
    "# 6610450871 นายชนพัฒน์ โชติกุลรัตน์ หมู่ 200"
   ]
  }
 ],
 "metadata": {
  "language_info": {
   "name": "python"
  }
 },
 "nbformat": 4,
 "nbformat_minor": 2
}
